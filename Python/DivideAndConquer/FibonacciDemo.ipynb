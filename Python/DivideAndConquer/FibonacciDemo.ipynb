{
 "cells": [
  {
   "cell_type": "code",
   "execution_count": 1,
   "metadata": {},
   "outputs": [],
   "source": [
    "from fibonacci import *"
   ]
  },
  {
   "cell_type": "code",
   "execution_count": 3,
   "metadata": {},
   "outputs": [
    {
     "name": "stdout",
     "output_type": "stream",
     "text": [
      "CPU times: user 47 µs, sys: 0 ns, total: 47 µs\n",
      "Wall time: 49.8 µs\n"
     ]
    },
    {
     "data": {
      "text/plain": [
       "55"
      ]
     },
     "execution_count": 3,
     "metadata": {},
     "output_type": "execute_result"
    }
   ],
   "source": [
    "%%time\n",
    "naive_fib(10)\n"
   ]
  },
  {
   "cell_type": "code",
   "execution_count": 6,
   "metadata": {},
   "outputs": [
    {
     "name": "stdout",
     "output_type": "stream",
     "text": [
      "CPU times: user 29.4 s, sys: 17.8 ms, total: 29.4 s\n",
      "Wall time: 29.4 s\n"
     ]
    },
    {
     "data": {
      "text/plain": [
       "39088169"
      ]
     },
     "execution_count": 6,
     "metadata": {},
     "output_type": "execute_result"
    }
   ],
   "source": [
    "%%time\n",
    "naive_fib(38)"
   ]
  },
  {
   "cell_type": "code",
   "execution_count": 7,
   "metadata": {},
   "outputs": [
    {
     "name": "stdout",
     "output_type": "stream",
     "text": [
      "CPU times: user 69 µs, sys: 0 ns, total: 69 µs\n",
      "Wall time: 71.8 µs\n"
     ]
    },
    {
     "data": {
      "text/plain": [
       "39088169"
      ]
     },
     "execution_count": 7,
     "metadata": {},
     "output_type": "execute_result"
    }
   ],
   "source": [
    "%%time\n",
    "memo_fib(38)"
   ]
  },
  {
   "cell_type": "code",
   "execution_count": 5,
   "metadata": {},
   "outputs": [],
   "source": [
    "from fibonacci import *"
   ]
  },
  {
   "cell_type": "code",
   "execution_count": 6,
   "metadata": {},
   "outputs": [
    {
     "data": {
      "text/plain": [
       "1597"
      ]
     },
     "execution_count": 6,
     "metadata": {},
     "output_type": "execute_result"
    }
   ],
   "source": [
    "called4"
   ]
  },
  {
   "cell_type": "code",
   "execution_count": 1,
   "metadata": {},
   "outputs": [],
   "source": [
    "from fibonacci import *"
   ]
  },
  {
   "cell_type": "code",
   "execution_count": 2,
   "metadata": {},
   "outputs": [
    {
     "ename": "NameError",
     "evalue": "name 'called4' is not defined",
     "output_type": "error",
     "traceback": [
      "\u001b[0;31m---------------------------------------------------------------------------\u001b[0m",
      "\u001b[0;31mNameError\u001b[0m                                 Traceback (most recent call last)",
      "\u001b[0;32m<ipython-input-2-a5e402059945>\u001b[0m in \u001b[0;36m<module>\u001b[0;34m()\u001b[0m\n\u001b[0;32m----> 1\u001b[0;31m \u001b[0mcalled4\u001b[0m\u001b[0;34m\u001b[0m\u001b[0m\n\u001b[0m",
      "\u001b[0;31mNameError\u001b[0m: name 'called4' is not defined"
     ]
    }
   ],
   "source": [
    "called4"
   ]
  },
  {
   "cell_type": "code",
   "execution_count": 3,
   "metadata": {},
   "outputs": [
    {
     "name": "stdout",
     "output_type": "stream",
     "text": [
      "Calling naive with n == 4\n",
      "Calling naive with n == 4\n",
      "Calling naive with n == 4\n",
      "Calling naive with n == 4\n",
      "Calling naive with n == 4\n",
      "Calling naive with n == 4\n",
      "Calling naive with n == 4\n",
      "Calling naive with n == 4\n",
      "Calling naive with n == 4\n",
      "Calling naive with n == 4\n",
      "Calling naive with n == 4\n",
      "Calling naive with n == 4\n",
      "Calling naive with n == 4\n"
     ]
    },
    {
     "data": {
      "text/plain": [
       "55"
      ]
     },
     "execution_count": 3,
     "metadata": {},
     "output_type": "execute_result"
    }
   ],
   "source": [
    "naive_fib(10)"
   ]
  },
  {
   "cell_type": "code",
   "execution_count": 2,
   "metadata": {},
   "outputs": [],
   "source": [
    "from fibonacci import *"
   ]
  },
  {
   "cell_type": "code",
   "execution_count": 3,
   "metadata": {},
   "outputs": [
    {
     "name": "stdout",
     "output_type": "stream",
     "text": [
      "Calling naive with n == 4\n",
      "Calling naive with n == 4\n",
      "Calling naive with n == 4\n",
      "Calling naive with n == 4\n",
      "Calling naive with n == 4\n",
      "Calling naive with n == 4\n",
      "Calling naive with n == 4\n",
      "Calling naive with n == 4\n",
      "Calling naive with n == 4\n",
      "Calling naive with n == 4\n",
      "Calling naive with n == 4\n",
      "Calling naive with n == 4\n",
      "Calling naive with n == 4\n",
      "Calling naive with n == 4\n",
      "Calling naive with n == 4\n",
      "Calling naive with n == 4\n",
      "Calling naive with n == 4\n",
      "Calling naive with n == 4\n",
      "Calling naive with n == 4\n",
      "Calling naive with n == 4\n",
      "Calling naive with n == 4\n"
     ]
    },
    {
     "data": {
      "text/plain": [
       "89"
      ]
     },
     "execution_count": 3,
     "metadata": {},
     "output_type": "execute_result"
    }
   ],
   "source": [
    "naive_fib(11)"
   ]
  },
  {
   "cell_type": "code",
   "execution_count": 4,
   "metadata": {},
   "outputs": [
    {
     "name": "stdout",
     "output_type": "stream",
     "text": [
      "Calling naive with n == 4\n",
      "Calling naive with n == 4\n",
      "Calling naive with n == 4\n",
      "Calling naive with n == 4\n",
      "Calling naive with n == 4\n",
      "Calling naive with n == 4\n",
      "Calling naive with n == 4\n",
      "Calling naive with n == 4\n"
     ]
    },
    {
     "data": {
      "text/plain": [
       "34"
      ]
     },
     "execution_count": 4,
     "metadata": {},
     "output_type": "execute_result"
    }
   ],
   "source": [
    "naive_fib(9)"
   ]
  },
  {
   "cell_type": "code",
   "execution_count": 5,
   "metadata": {},
   "outputs": [
    {
     "name": "stdout",
     "output_type": "stream",
     "text": [
      "Calling naive with n == 4\n",
      "Calling naive with n == 4\n",
      "Calling naive with n == 4\n",
      "Calling naive with n == 4\n",
      "Calling naive with n == 4\n"
     ]
    },
    {
     "data": {
      "text/plain": [
       "21"
      ]
     },
     "execution_count": 5,
     "metadata": {},
     "output_type": "execute_result"
    }
   ],
   "source": [
    "naive_fib(8)"
   ]
  },
  {
   "cell_type": "code",
   "execution_count": 6,
   "metadata": {},
   "outputs": [
    {
     "name": "stdout",
     "output_type": "stream",
     "text": [
      "Calling naive with n == 4\n"
     ]
    },
    {
     "data": {
      "text/plain": [
       "5"
      ]
     },
     "execution_count": 6,
     "metadata": {},
     "output_type": "execute_result"
    }
   ],
   "source": [
    "naive_fib(5)"
   ]
  },
  {
   "cell_type": "code",
   "execution_count": 7,
   "metadata": {},
   "outputs": [
    {
     "name": "stdout",
     "output_type": "stream",
     "text": [
      "Calling naive with n == 4\n",
      "Calling naive with n == 4\n"
     ]
    },
    {
     "data": {
      "text/plain": [
       "8"
      ]
     },
     "execution_count": 7,
     "metadata": {},
     "output_type": "execute_result"
    }
   ],
   "source": [
    "naive_fib(6)"
   ]
  },
  {
   "cell_type": "code",
   "execution_count": 8,
   "metadata": {},
   "outputs": [
    {
     "name": "stdout",
     "output_type": "stream",
     "text": [
      "Calling naive with n == 4\n",
      "Calling naive with n == 4\n",
      "Calling naive with n == 4\n",
      "Calling naive with n == 4\n",
      "Calling naive with n == 4\n",
      "Calling naive with n == 4\n",
      "Calling naive with n == 4\n",
      "Calling naive with n == 4\n",
      "Calling naive with n == 4\n",
      "Calling naive with n == 4\n",
      "Calling naive with n == 4\n",
      "Calling naive with n == 4\n",
      "Calling naive with n == 4\n",
      "Calling naive with n == 4\n",
      "Calling naive with n == 4\n",
      "Calling naive with n == 4\n",
      "Calling naive with n == 4\n",
      "Calling naive with n == 4\n",
      "Calling naive with n == 4\n",
      "Calling naive with n == 4\n",
      "Calling naive with n == 4\n",
      "Calling naive with n == 4\n",
      "Calling naive with n == 4\n",
      "Calling naive with n == 4\n",
      "Calling naive with n == 4\n",
      "Calling naive with n == 4\n",
      "Calling naive with n == 4\n",
      "Calling naive with n == 4\n",
      "Calling naive with n == 4\n",
      "Calling naive with n == 4\n",
      "Calling naive with n == 4\n",
      "Calling naive with n == 4\n",
      "Calling naive with n == 4\n",
      "Calling naive with n == 4\n"
     ]
    },
    {
     "data": {
      "text/plain": [
       "144"
      ]
     },
     "execution_count": 8,
     "metadata": {},
     "output_type": "execute_result"
    }
   ],
   "source": [
    "naive_fib(12)"
   ]
  }
 ],
 "metadata": {
  "kernelspec": {
   "display_name": "Python 3",
   "language": "python",
   "name": "python3"
  },
  "language_info": {
   "codemirror_mode": {
    "name": "ipython",
    "version": 3
   },
   "file_extension": ".py",
   "mimetype": "text/x-python",
   "name": "python",
   "nbconvert_exporter": "python",
   "pygments_lexer": "ipython3",
   "version": "3.6.2"
  }
 },
 "nbformat": 4,
 "nbformat_minor": 2
}
